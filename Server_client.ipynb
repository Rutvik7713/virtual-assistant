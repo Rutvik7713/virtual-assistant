{
 "cells": [
  {
   "cell_type": "code",
   "execution_count": 1,
   "metadata": {},
   "outputs": [],
   "source": [
    "import speech_recognition as sr\n",
    "import pyttsx3\n"
   ]
  },
  {
   "cell_type": "code",
   "execution_count": 2,
   "metadata": {},
   "outputs": [],
   "source": [
    "DAYS = [\"monday\", \"tuesday\", \"wednesday\", \"thursday\", \"friday\", \"saturday\"]\n",
    "r = sr.Recognizer()\n",
    "def record_audio(ask = False):\n",
    "    with sr.Microphone() as source:\n",
    "        if ask:\n",
    "            vision_speak(ask)\n",
    "        audio = r.listen(source)\n",
    "        voice_data = ''\n",
    "        try:\n",
    "            voice_data = r.recognize_google(audio)\n",
    "        except sr.UnknownValueError:\n",
    "            vision_speak('Sorry, I did not get that')\n",
    "            global a\n",
    "            a=1\n",
    "        except sr.RequestError:\n",
    "            vision_speak('Sorry, my speech service is down')\n",
    "        return voice_data\n",
    "\n",
    "def vision_speak(audio_string):\n",
    "    en = pyttsx3.init()\n",
    "    en.say(audio_string)\n",
    "    print(audio_string)\n",
    "    en.runAndWait()\n",
    "\n",
    "\n",
    "def respond(text):\n",
    "    text=text.lower()\n",
    "    def there_exists(terms):\n",
    "        for term in terms:\n",
    "            if term in text.lower():\n",
    "                return True      \n",
    "    \n",
    "    if there_exists([\"what do i have\", \"do i have plans\", \"am i busy\"]):\n",
    "        for word in text.split():\n",
    "            if word in DAYS:\n",
    "                temp=word\n",
    "        database_connection(temp)    \n",
    "    \n",
    "    elif there_exists([\"show my marks\", \"show my result\"]):\n",
    "        get_marks()\n",
    "        \n",
    "    else:\n",
    "        vision_speak(\"I don't understand\")     "
   ]
  },
  {
   "cell_type": "code",
   "execution_count": 8,
   "metadata": {},
   "outputs": [
    {
     "name": "stdout",
     "output_type": "stream",
     "text": [
      "Listening \n",
      "..........\n",
      "('9:00', 'WCMC')\n",
      "('10:00', 'SE')\n",
      "('11:00', 'WCMC')\n",
      "('12:00', 'SE')\n"
     ]
    }
   ],
   "source": [
    "vision_speak(\"Listening \")\n",
    "print(\"..........\")\n",
    "voice_data = record_audio()\n",
    "respond(voice_data)"
   ]
  },
  {
   "cell_type": "code",
   "execution_count": null,
   "metadata": {},
   "outputs": [],
   "source": [
    "  "
   ]
  },
  {
   "cell_type": "code",
   "execution_count": 6,
   "metadata": {},
   "outputs": [],
   "source": [
    "import pymysql\n",
    "#database connection\n",
    "def database_connection(day):\n",
    "    connection = pymysql.connect(host=\"localhost\",user=\"root\",passwd=\"\",database=\"student_data\" )\n",
    "    cursor = connection.cursor()\n",
    "    # some other statements  with the help of cursor\n",
    "    retrive = \"Select time,\"+ day + \" from time_table;\"\n",
    "\n",
    "    #executing the quires\n",
    "    cursor.execute(retrive)\n",
    "    rows = cursor.fetchall()\n",
    "    for row in rows:\n",
    "        vision_speak(row)\n",
    "\n",
    "\n",
    "    #commiting the connection then closing it.\n",
    "    connection.commit()\n",
    "    connection.close()"
   ]
  },
  {
   "cell_type": "code",
   "execution_count": 5,
   "metadata": {},
   "outputs": [],
   "source": [
    "def get_marks():\n",
    "    connection = pymysql.connect(host=\"localhost\",user=\"root\",passwd=\"\",database=\"student_data\" )\n",
    "    cursor = connection.cursor()\n",
    "    retrive = \"Select CRNS,MLA,WCMC,SE from marksheet where std_id='18IT102';\"\n",
    "    cursor.execute(retrive)\n",
    "    rows = cursor.fetchall()\n",
    "    vision_speak('you have marks in CRNS,MLA,WCMC,SE as following')\n",
    "    for row in rows:\n",
    "        vision_speak(row)\n",
    "    connection.commit()\n",
    "    connection.close()"
   ]
  },
  {
   "cell_type": "code",
   "execution_count": 6,
   "metadata": {},
   "outputs": [
    {
     "name": "stdout",
     "output_type": "stream",
     "text": [
      "('9:00', 'WCMC')\n",
      "('10:00', 'SE')\n"
     ]
    },
    {
     "name": "stderr",
     "output_type": "stream",
     "text": [
      "Exception ignored in: <function BSTR.__del__ at 0x0000029953628AF8>\n",
      "Traceback (most recent call last):\n",
      "  File \"C:\\Users\\User\\Anaconda3\\lib\\site-packages\\comtypes\\__init__.py\", line 1005, in __del__\n",
      "    def __del__(self, _free=windll.oleaut32.SysFreeString):\n",
      "KeyboardInterrupt\n"
     ]
    },
    {
     "name": "stdout",
     "output_type": "stream",
     "text": [
      "('11:00', 'WCMC')\n",
      "('12:00', 'SE')\n"
     ]
    }
   ],
   "source": [
    "connection = pymysql.connect(host=\"localhost\",user=\"root\",passwd=\"\",database=\"student_data\" )\n",
    "cursor = connection.cursor()\n",
    "# some other statements  with the help of cursor\n",
    "retrive = \"Select time,monday from time_table;\"\n",
    "\n",
    "#executing the quires\n",
    "cursor.execute(retrive)\n",
    "rows = cursor.fetchall()\n",
    "for row in rows:\n",
    "    vision_speak(row)\n",
    "\n",
    "\n",
    "#commiting the connection then closing it.\n",
    "connection.commit()\n",
    "connection.close()"
   ]
  },
  {
   "cell_type": "code",
   "execution_count": null,
   "metadata": {},
   "outputs": [],
   "source": []
  }
 ],
 "metadata": {
  "kernelspec": {
   "display_name": "Python 3",
   "language": "python",
   "name": "python3"
  },
  "language_info": {
   "codemirror_mode": {
    "name": "ipython",
    "version": 3
   },
   "file_extension": ".py",
   "mimetype": "text/x-python",
   "name": "python",
   "nbconvert_exporter": "python",
   "pygments_lexer": "ipython3",
   "version": "3.7.4"
  }
 },
 "nbformat": 4,
 "nbformat_minor": 2
}
